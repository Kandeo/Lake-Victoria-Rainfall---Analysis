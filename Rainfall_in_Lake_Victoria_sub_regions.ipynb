{
  "nbformat": 4,
  "nbformat_minor": 0,
  "metadata": {
    "colab": {
      "name": "Rainfall in Lake Victoria sub-regions",
      "provenance": [],
      "authorship_tag": "ABX9TyPHEjZ0f1oOYlxkOjAHYgqL",
      "include_colab_link": true
    },
    "kernelspec": {
      "name": "python3",
      "display_name": "Python 3"
    },
    "language_info": {
      "name": "python"
    }
  },
  "cells": [
    {
      "cell_type": "markdown",
      "metadata": {
        "id": "view-in-github",
        "colab_type": "text"
      },
      "source": [
        "<a href=\"https://colab.research.google.com/github/Kandeo/Lake-Victoria-Rainfall-Analysis/blob/main/Rainfall_in_Lake_Victoria_sub_regions.ipynb\" target=\"_parent\"><img src=\"https://colab.research.google.com/assets/colab-badge.svg\" alt=\"Open In Colab\"/></a>"
      ]
    },
    {
      "cell_type": "markdown",
      "source": [
        "# **Historic and Projected Rainfall for Lake Victoria Sub-regions**"
      ],
      "metadata": {
        "id": "ZreKdAbDS_Kb"
      }
    },
    {
      "cell_type": "markdown",
      "source": [
        "The [Lake Victoria sub-basin](https://atlas.nilebasin.org/treatise/the-lake-victoria-sub-basin/#) is the area covering the lake surface and the catchment areas of all its tributaries. Lake Victoria is important for agriculture, industry, domestic water supplies, hydropower, fisheries, travel, tourism, and environment. The 3 countries that share the lake shorline are: Kenya (6%), Tanzania (51 %) and Uganda (43%). The average annual precipitation over the sub-basin is estimated as being 1368mm.\n",
        "\n",
        "This analysis focuses on the historic and projected rainfall across Kagera, Simiyu, Victoria Nile and Lake Victoria Sub-regions.\n",
        "\n"
      ],
      "metadata": {
        "id": "wzdDnMVaXtpI"
      }
    },
    {
      "cell_type": "markdown",
      "source": [
        "# **Data Preparation**"
      ],
      "metadata": {
        "id": "_ZTChaMeIARX"
      }
    },
    {
      "cell_type": "markdown",
      "source": [
        "Loading Dependencies"
      ],
      "metadata": {
        "id": "2maB9NDpFeaL"
      }
    },
    {
      "cell_type": "code",
      "execution_count": 77,
      "metadata": {
        "id": "71GLhiEtDKKa"
      },
      "outputs": [],
      "source": [
        "#Importing libraries:\n",
        "\n",
        "#1. Data Wrangling/Manipulation:\n",
        "import pandas as pd \n",
        "import numpy as np \n",
        "\n",
        "#2. Data Visualization:\n",
        "import seaborn as sns   \n",
        "import matplotlib.pyplot as plt\n",
        "from matplotlib import rcParams"
      ]
    },
    {
      "cell_type": "markdown",
      "source": [
        "Loading the Dataset"
      ],
      "metadata": {
        "id": "HwLdEGu4Fj8H"
      }
    },
    {
      "cell_type": "code",
      "source": [
        "#Loading the data from the csv to Pandas dataframe:\n",
        "Rainfall = pd.read_csv('/content/Nile Basin historic-and-projected-rainfall.csv')\n",
        "\n",
        "#Printing the first 4 rows of the Rainfall dataframe:\n",
        "Rainfall.head(4)"
      ],
      "metadata": {
        "colab": {
          "base_uri": "https://localhost:8080/",
          "height": 174
        },
        "id": "7n1DqmRoDSB9",
        "outputId": "c6c8890c-0590-4466-eba5-9ccbeb881e54"
      },
      "execution_count": 2,
      "outputs": [
        {
          "output_type": "execute_result",
          "data": {
            "text/html": [
              "\n",
              "  <div id=\"df-8987ca64-5d92-412b-8a11-cd5a348de64c\">\n",
              "    <div class=\"colab-df-container\">\n",
              "      <div>\n",
              "<style scoped>\n",
              "    .dataframe tbody tr th:only-of-type {\n",
              "        vertical-align: middle;\n",
              "    }\n",
              "\n",
              "    .dataframe tbody tr th {\n",
              "        vertical-align: top;\n",
              "    }\n",
              "\n",
              "    .dataframe thead th {\n",
              "        text-align: right;\n",
              "    }\n",
              "</style>\n",
              "<table border=\"1\" class=\"dataframe\">\n",
              "  <thead>\n",
              "    <tr style=\"text-align: right;\">\n",
              "      <th></th>\n",
              "      <th>Region</th>\n",
              "      <th>Time</th>\n",
              "      <th>Jan</th>\n",
              "      <th>Feb</th>\n",
              "      <th>March</th>\n",
              "      <th>April</th>\n",
              "      <th>May</th>\n",
              "      <th>June</th>\n",
              "      <th>July</th>\n",
              "      <th>Aug</th>\n",
              "      <th>Sept</th>\n",
              "      <th>Oct</th>\n",
              "      <th>Nov</th>\n",
              "      <th>Dec</th>\n",
              "      <th>Avg.</th>\n",
              "      <th>Min.</th>\n",
              "      <th>Max.</th>\n",
              "    </tr>\n",
              "  </thead>\n",
              "  <tbody>\n",
              "    <tr>\n",
              "      <th>0</th>\n",
              "      <td>Kagera</td>\n",
              "      <td>2000</td>\n",
              "      <td>NaN</td>\n",
              "      <td>NaN</td>\n",
              "      <td>NaN</td>\n",
              "      <td>NaN</td>\n",
              "      <td>NaN</td>\n",
              "      <td>NaN</td>\n",
              "      <td>NaN</td>\n",
              "      <td>NaN</td>\n",
              "      <td>3.584</td>\n",
              "      <td>1.646</td>\n",
              "      <td>1.415</td>\n",
              "      <td>0.123</td>\n",
              "      <td>0.211</td>\n",
              "      <td>0.966</td>\n",
              "      <td>0.715</td>\n",
              "    </tr>\n",
              "    <tr>\n",
              "      <th>1</th>\n",
              "      <td>Kagera</td>\n",
              "      <td>2001</td>\n",
              "      <td>6.532</td>\n",
              "      <td>0.252</td>\n",
              "      <td>1.093</td>\n",
              "      <td>6.323</td>\n",
              "      <td>4.482</td>\n",
              "      <td>0.254</td>\n",
              "      <td>0.092</td>\n",
              "      <td>0.088</td>\n",
              "      <td>0.720</td>\n",
              "      <td>0.524</td>\n",
              "      <td>2.974</td>\n",
              "      <td>4.383</td>\n",
              "      <td>2.310</td>\n",
              "      <td>0.088</td>\n",
              "      <td>6.532</td>\n",
              "    </tr>\n",
              "    <tr>\n",
              "      <th>2</th>\n",
              "      <td>Kagera</td>\n",
              "      <td>2002</td>\n",
              "      <td>1.805</td>\n",
              "      <td>0.130</td>\n",
              "      <td>3.157</td>\n",
              "      <td>6.455</td>\n",
              "      <td>1.155</td>\n",
              "      <td>0.020</td>\n",
              "      <td>0.045</td>\n",
              "      <td>1.060</td>\n",
              "      <td>1.034</td>\n",
              "      <td>3.320</td>\n",
              "      <td>2.322</td>\n",
              "      <td>0.375</td>\n",
              "      <td>1.740</td>\n",
              "      <td>0.020</td>\n",
              "      <td>6.455</td>\n",
              "    </tr>\n",
              "    <tr>\n",
              "      <th>3</th>\n",
              "      <td>Kagera</td>\n",
              "      <td>2003</td>\n",
              "      <td>7.727</td>\n",
              "      <td>0.207</td>\n",
              "      <td>2.288</td>\n",
              "      <td>4.336</td>\n",
              "      <td>9.235</td>\n",
              "      <td>2.262</td>\n",
              "      <td>0.190</td>\n",
              "      <td>0.234</td>\n",
              "      <td>1.375</td>\n",
              "      <td>1.329</td>\n",
              "      <td>5.169</td>\n",
              "      <td>1.980</td>\n",
              "      <td>3.028</td>\n",
              "      <td>0.190</td>\n",
              "      <td>9.235</td>\n",
              "    </tr>\n",
              "  </tbody>\n",
              "</table>\n",
              "</div>\n",
              "      <button class=\"colab-df-convert\" onclick=\"convertToInteractive('df-8987ca64-5d92-412b-8a11-cd5a348de64c')\"\n",
              "              title=\"Convert this dataframe to an interactive table.\"\n",
              "              style=\"display:none;\">\n",
              "        \n",
              "  <svg xmlns=\"http://www.w3.org/2000/svg\" height=\"24px\"viewBox=\"0 0 24 24\"\n",
              "       width=\"24px\">\n",
              "    <path d=\"M0 0h24v24H0V0z\" fill=\"none\"/>\n",
              "    <path d=\"M18.56 5.44l.94 2.06.94-2.06 2.06-.94-2.06-.94-.94-2.06-.94 2.06-2.06.94zm-11 1L8.5 8.5l.94-2.06 2.06-.94-2.06-.94L8.5 2.5l-.94 2.06-2.06.94zm10 10l.94 2.06.94-2.06 2.06-.94-2.06-.94-.94-2.06-.94 2.06-2.06.94z\"/><path d=\"M17.41 7.96l-1.37-1.37c-.4-.4-.92-.59-1.43-.59-.52 0-1.04.2-1.43.59L10.3 9.45l-7.72 7.72c-.78.78-.78 2.05 0 2.83L4 21.41c.39.39.9.59 1.41.59.51 0 1.02-.2 1.41-.59l7.78-7.78 2.81-2.81c.8-.78.8-2.07 0-2.86zM5.41 20L4 18.59l7.72-7.72 1.47 1.35L5.41 20z\"/>\n",
              "  </svg>\n",
              "      </button>\n",
              "      \n",
              "  <style>\n",
              "    .colab-df-container {\n",
              "      display:flex;\n",
              "      flex-wrap:wrap;\n",
              "      gap: 12px;\n",
              "    }\n",
              "\n",
              "    .colab-df-convert {\n",
              "      background-color: #E8F0FE;\n",
              "      border: none;\n",
              "      border-radius: 50%;\n",
              "      cursor: pointer;\n",
              "      display: none;\n",
              "      fill: #1967D2;\n",
              "      height: 32px;\n",
              "      padding: 0 0 0 0;\n",
              "      width: 32px;\n",
              "    }\n",
              "\n",
              "    .colab-df-convert:hover {\n",
              "      background-color: #E2EBFA;\n",
              "      box-shadow: 0px 1px 2px rgba(60, 64, 67, 0.3), 0px 1px 3px 1px rgba(60, 64, 67, 0.15);\n",
              "      fill: #174EA6;\n",
              "    }\n",
              "\n",
              "    [theme=dark] .colab-df-convert {\n",
              "      background-color: #3B4455;\n",
              "      fill: #D2E3FC;\n",
              "    }\n",
              "\n",
              "    [theme=dark] .colab-df-convert:hover {\n",
              "      background-color: #434B5C;\n",
              "      box-shadow: 0px 1px 3px 1px rgba(0, 0, 0, 0.15);\n",
              "      filter: drop-shadow(0px 1px 2px rgba(0, 0, 0, 0.3));\n",
              "      fill: #FFFFFF;\n",
              "    }\n",
              "  </style>\n",
              "\n",
              "      <script>\n",
              "        const buttonEl =\n",
              "          document.querySelector('#df-8987ca64-5d92-412b-8a11-cd5a348de64c button.colab-df-convert');\n",
              "        buttonEl.style.display =\n",
              "          google.colab.kernel.accessAllowed ? 'block' : 'none';\n",
              "\n",
              "        async function convertToInteractive(key) {\n",
              "          const element = document.querySelector('#df-8987ca64-5d92-412b-8a11-cd5a348de64c');\n",
              "          const dataTable =\n",
              "            await google.colab.kernel.invokeFunction('convertToInteractive',\n",
              "                                                     [key], {});\n",
              "          if (!dataTable) return;\n",
              "\n",
              "          const docLinkHtml = 'Like what you see? Visit the ' +\n",
              "            '<a target=\"_blank\" href=https://colab.research.google.com/notebooks/data_table.ipynb>data table notebook</a>'\n",
              "            + ' to learn more about interactive tables.';\n",
              "          element.innerHTML = '';\n",
              "          dataTable['output_type'] = 'display_data';\n",
              "          await google.colab.output.renderOutput(dataTable, element);\n",
              "          const docLink = document.createElement('div');\n",
              "          docLink.innerHTML = docLinkHtml;\n",
              "          element.appendChild(docLink);\n",
              "        }\n",
              "      </script>\n",
              "    </div>\n",
              "  </div>\n",
              "  "
            ],
            "text/plain": [
              "   Region  Time    Jan    Feb  March  ...    Nov    Dec   Avg.   Min.   Max.\n",
              "0  Kagera  2000    NaN    NaN    NaN  ...  1.415  0.123  0.211  0.966  0.715\n",
              "1  Kagera  2001  6.532  0.252  1.093  ...  2.974  4.383  2.310  0.088  6.532\n",
              "2  Kagera  2002  1.805  0.130  3.157  ...  2.322  0.375  1.740  0.020  6.455\n",
              "3  Kagera  2003  7.727  0.207  2.288  ...  5.169  1.980  3.028  0.190  9.235\n",
              "\n",
              "[4 rows x 17 columns]"
            ]
          },
          "metadata": {},
          "execution_count": 2
        }
      ]
    },
    {
      "cell_type": "code",
      "source": [
        "#Checking the number of rows and columns:\n",
        "Rainfall.shape"
      ],
      "metadata": {
        "colab": {
          "base_uri": "https://localhost:8080/"
        },
        "id": "vJ8M9aj3DsAK",
        "outputId": "429b718f-543d-4656-e4c0-d7943f61a56a"
      },
      "execution_count": 3,
      "outputs": [
        {
          "output_type": "execute_result",
          "data": {
            "text/plain": [
              "(144, 17)"
            ]
          },
          "metadata": {},
          "execution_count": 3
        }
      ]
    },
    {
      "cell_type": "markdown",
      "source": [
        "The dataset has 144 rows and 17 columns"
      ],
      "metadata": {
        "id": "lamzBvDwDyrD"
      }
    },
    {
      "cell_type": "markdown",
      "source": [
        "Irrelevant Observations"
      ],
      "metadata": {
        "id": "5I1GQ-WOFqgr"
      }
    },
    {
      "cell_type": "code",
      "source": [
        "#Dropping the last 3 columns of the dataset since they are part of descriptive summaries:\n",
        "Rainfall.drop(Rainfall.columns[[14, 15, 16]], axis=1, inplace = True)\n",
        "Rainfall.head(4)"
      ],
      "metadata": {
        "colab": {
          "base_uri": "https://localhost:8080/",
          "height": 174
        },
        "id": "WvwUaJ-iD5Mv",
        "outputId": "94fcfa2a-fc5f-4c3f-d2db-e830dd8aa39e"
      },
      "execution_count": 4,
      "outputs": [
        {
          "output_type": "execute_result",
          "data": {
            "text/html": [
              "\n",
              "  <div id=\"df-674874be-2f59-4209-81a3-19714e5be743\">\n",
              "    <div class=\"colab-df-container\">\n",
              "      <div>\n",
              "<style scoped>\n",
              "    .dataframe tbody tr th:only-of-type {\n",
              "        vertical-align: middle;\n",
              "    }\n",
              "\n",
              "    .dataframe tbody tr th {\n",
              "        vertical-align: top;\n",
              "    }\n",
              "\n",
              "    .dataframe thead th {\n",
              "        text-align: right;\n",
              "    }\n",
              "</style>\n",
              "<table border=\"1\" class=\"dataframe\">\n",
              "  <thead>\n",
              "    <tr style=\"text-align: right;\">\n",
              "      <th></th>\n",
              "      <th>Region</th>\n",
              "      <th>Time</th>\n",
              "      <th>Jan</th>\n",
              "      <th>Feb</th>\n",
              "      <th>March</th>\n",
              "      <th>April</th>\n",
              "      <th>May</th>\n",
              "      <th>June</th>\n",
              "      <th>July</th>\n",
              "      <th>Aug</th>\n",
              "      <th>Sept</th>\n",
              "      <th>Oct</th>\n",
              "      <th>Nov</th>\n",
              "      <th>Dec</th>\n",
              "    </tr>\n",
              "  </thead>\n",
              "  <tbody>\n",
              "    <tr>\n",
              "      <th>0</th>\n",
              "      <td>Kagera</td>\n",
              "      <td>2000</td>\n",
              "      <td>NaN</td>\n",
              "      <td>NaN</td>\n",
              "      <td>NaN</td>\n",
              "      <td>NaN</td>\n",
              "      <td>NaN</td>\n",
              "      <td>NaN</td>\n",
              "      <td>NaN</td>\n",
              "      <td>NaN</td>\n",
              "      <td>3.584</td>\n",
              "      <td>1.646</td>\n",
              "      <td>1.415</td>\n",
              "      <td>0.123</td>\n",
              "    </tr>\n",
              "    <tr>\n",
              "      <th>1</th>\n",
              "      <td>Kagera</td>\n",
              "      <td>2001</td>\n",
              "      <td>6.532</td>\n",
              "      <td>0.252</td>\n",
              "      <td>1.093</td>\n",
              "      <td>6.323</td>\n",
              "      <td>4.482</td>\n",
              "      <td>0.254</td>\n",
              "      <td>0.092</td>\n",
              "      <td>0.088</td>\n",
              "      <td>0.720</td>\n",
              "      <td>0.524</td>\n",
              "      <td>2.974</td>\n",
              "      <td>4.383</td>\n",
              "    </tr>\n",
              "    <tr>\n",
              "      <th>2</th>\n",
              "      <td>Kagera</td>\n",
              "      <td>2002</td>\n",
              "      <td>1.805</td>\n",
              "      <td>0.130</td>\n",
              "      <td>3.157</td>\n",
              "      <td>6.455</td>\n",
              "      <td>1.155</td>\n",
              "      <td>0.020</td>\n",
              "      <td>0.045</td>\n",
              "      <td>1.060</td>\n",
              "      <td>1.034</td>\n",
              "      <td>3.320</td>\n",
              "      <td>2.322</td>\n",
              "      <td>0.375</td>\n",
              "    </tr>\n",
              "    <tr>\n",
              "      <th>3</th>\n",
              "      <td>Kagera</td>\n",
              "      <td>2003</td>\n",
              "      <td>7.727</td>\n",
              "      <td>0.207</td>\n",
              "      <td>2.288</td>\n",
              "      <td>4.336</td>\n",
              "      <td>9.235</td>\n",
              "      <td>2.262</td>\n",
              "      <td>0.190</td>\n",
              "      <td>0.234</td>\n",
              "      <td>1.375</td>\n",
              "      <td>1.329</td>\n",
              "      <td>5.169</td>\n",
              "      <td>1.980</td>\n",
              "    </tr>\n",
              "  </tbody>\n",
              "</table>\n",
              "</div>\n",
              "      <button class=\"colab-df-convert\" onclick=\"convertToInteractive('df-674874be-2f59-4209-81a3-19714e5be743')\"\n",
              "              title=\"Convert this dataframe to an interactive table.\"\n",
              "              style=\"display:none;\">\n",
              "        \n",
              "  <svg xmlns=\"http://www.w3.org/2000/svg\" height=\"24px\"viewBox=\"0 0 24 24\"\n",
              "       width=\"24px\">\n",
              "    <path d=\"M0 0h24v24H0V0z\" fill=\"none\"/>\n",
              "    <path d=\"M18.56 5.44l.94 2.06.94-2.06 2.06-.94-2.06-.94-.94-2.06-.94 2.06-2.06.94zm-11 1L8.5 8.5l.94-2.06 2.06-.94-2.06-.94L8.5 2.5l-.94 2.06-2.06.94zm10 10l.94 2.06.94-2.06 2.06-.94-2.06-.94-.94-2.06-.94 2.06-2.06.94z\"/><path d=\"M17.41 7.96l-1.37-1.37c-.4-.4-.92-.59-1.43-.59-.52 0-1.04.2-1.43.59L10.3 9.45l-7.72 7.72c-.78.78-.78 2.05 0 2.83L4 21.41c.39.39.9.59 1.41.59.51 0 1.02-.2 1.41-.59l7.78-7.78 2.81-2.81c.8-.78.8-2.07 0-2.86zM5.41 20L4 18.59l7.72-7.72 1.47 1.35L5.41 20z\"/>\n",
              "  </svg>\n",
              "      </button>\n",
              "      \n",
              "  <style>\n",
              "    .colab-df-container {\n",
              "      display:flex;\n",
              "      flex-wrap:wrap;\n",
              "      gap: 12px;\n",
              "    }\n",
              "\n",
              "    .colab-df-convert {\n",
              "      background-color: #E8F0FE;\n",
              "      border: none;\n",
              "      border-radius: 50%;\n",
              "      cursor: pointer;\n",
              "      display: none;\n",
              "      fill: #1967D2;\n",
              "      height: 32px;\n",
              "      padding: 0 0 0 0;\n",
              "      width: 32px;\n",
              "    }\n",
              "\n",
              "    .colab-df-convert:hover {\n",
              "      background-color: #E2EBFA;\n",
              "      box-shadow: 0px 1px 2px rgba(60, 64, 67, 0.3), 0px 1px 3px 1px rgba(60, 64, 67, 0.15);\n",
              "      fill: #174EA6;\n",
              "    }\n",
              "\n",
              "    [theme=dark] .colab-df-convert {\n",
              "      background-color: #3B4455;\n",
              "      fill: #D2E3FC;\n",
              "    }\n",
              "\n",
              "    [theme=dark] .colab-df-convert:hover {\n",
              "      background-color: #434B5C;\n",
              "      box-shadow: 0px 1px 3px 1px rgba(0, 0, 0, 0.15);\n",
              "      filter: drop-shadow(0px 1px 2px rgba(0, 0, 0, 0.3));\n",
              "      fill: #FFFFFF;\n",
              "    }\n",
              "  </style>\n",
              "\n",
              "      <script>\n",
              "        const buttonEl =\n",
              "          document.querySelector('#df-674874be-2f59-4209-81a3-19714e5be743 button.colab-df-convert');\n",
              "        buttonEl.style.display =\n",
              "          google.colab.kernel.accessAllowed ? 'block' : 'none';\n",
              "\n",
              "        async function convertToInteractive(key) {\n",
              "          const element = document.querySelector('#df-674874be-2f59-4209-81a3-19714e5be743');\n",
              "          const dataTable =\n",
              "            await google.colab.kernel.invokeFunction('convertToInteractive',\n",
              "                                                     [key], {});\n",
              "          if (!dataTable) return;\n",
              "\n",
              "          const docLinkHtml = 'Like what you see? Visit the ' +\n",
              "            '<a target=\"_blank\" href=https://colab.research.google.com/notebooks/data_table.ipynb>data table notebook</a>'\n",
              "            + ' to learn more about interactive tables.';\n",
              "          element.innerHTML = '';\n",
              "          dataTable['output_type'] = 'display_data';\n",
              "          await google.colab.output.renderOutput(dataTable, element);\n",
              "          const docLink = document.createElement('div');\n",
              "          docLink.innerHTML = docLinkHtml;\n",
              "          element.appendChild(docLink);\n",
              "        }\n",
              "      </script>\n",
              "    </div>\n",
              "  </div>\n",
              "  "
            ],
            "text/plain": [
              "   Region  Time    Jan    Feb  March  ...    Aug   Sept    Oct    Nov    Dec\n",
              "0  Kagera  2000    NaN    NaN    NaN  ...    NaN  3.584  1.646  1.415  0.123\n",
              "1  Kagera  2001  6.532  0.252  1.093  ...  0.088  0.720  0.524  2.974  4.383\n",
              "2  Kagera  2002  1.805  0.130  3.157  ...  1.060  1.034  3.320  2.322  0.375\n",
              "3  Kagera  2003  7.727  0.207  2.288  ...  0.234  1.375  1.329  5.169  1.980\n",
              "\n",
              "[4 rows x 14 columns]"
            ]
          },
          "metadata": {},
          "execution_count": 4
        }
      ]
    },
    {
      "cell_type": "markdown",
      "source": [
        "Missing Values"
      ],
      "metadata": {
        "id": "J-A-WxwVFuXM"
      }
    },
    {
      "cell_type": "code",
      "source": [
        "#Checking for null entries in each column:\n",
        "Rainfall.isnull().sum().sort_values(ascending = False)"
      ],
      "metadata": {
        "colab": {
          "base_uri": "https://localhost:8080/"
        },
        "id": "tqH2zADvEZxl",
        "outputId": "d5af195f-28e3-4e63-dd43-22adaa7385a1"
      },
      "execution_count": 5,
      "outputs": [
        {
          "output_type": "execute_result",
          "data": {
            "text/plain": [
              "Aug       4\n",
              "July      4\n",
              "June      4\n",
              "May       4\n",
              "April     4\n",
              "March     4\n",
              "Feb       4\n",
              "Jan       4\n",
              "Dec       0\n",
              "Nov       0\n",
              "Oct       0\n",
              "Sept      0\n",
              "Time      0\n",
              "Region    0\n",
              "dtype: int64"
            ]
          },
          "metadata": {},
          "execution_count": 5
        }
      ]
    },
    {
      "cell_type": "code",
      "source": [
        "#In as much as few entries have missing values, to avoid losing any observation, \n",
        "#the missing values shall be inputed with their respective means.\n",
        "\n",
        "#Creating a dataframe containing columns with missing values:\n",
        "Missing = Rainfall[['Aug','July', 'June', 'May', 'April', 'March', 'Feb', 'Jan']].copy()\n",
        "\n",
        "#Replacing the Missing values with the respective Means:'\n",
        "for i in Missing:\n",
        "  Rainfall[i] = Rainfall[i].fillna(Rainfall[i].mean())"
      ],
      "metadata": {
        "id": "3UCSW922E0nV"
      },
      "execution_count": 6,
      "outputs": []
    },
    {
      "cell_type": "markdown",
      "source": [
        "Duplicate Values"
      ],
      "metadata": {
        "id": "158DVNtmHmLn"
      }
    },
    {
      "cell_type": "code",
      "source": [
        "#Checking for duplicates:\n",
        "Rainfall.duplicated().sum()    "
      ],
      "metadata": {
        "colab": {
          "base_uri": "https://localhost:8080/"
        },
        "id": "zHDcVxoEHoGl",
        "outputId": "12d9c9a3-f861-4cef-e741-f9bd4ce2bee1"
      },
      "execution_count": 7,
      "outputs": [
        {
          "output_type": "execute_result",
          "data": {
            "text/plain": [
              "0"
            ]
          },
          "metadata": {},
          "execution_count": 7
        }
      ]
    },
    {
      "cell_type": "markdown",
      "source": [
        "# **Exploratory Data Analysis**"
      ],
      "metadata": {
        "id": "aPZxFFxcH5MS"
      }
    },
    {
      "cell_type": "markdown",
      "source": [
        "This analysis involves summarizing important characteristics and trends in the data to gain better understanding."
      ],
      "metadata": {
        "id": "Hxc8mxeJINqU"
      }
    },
    {
      "cell_type": "markdown",
      "source": [
        "From the historic and projected rainfall data, this analysis seeks to find:"
      ],
      "metadata": {
        "id": "uFDawAFbyUlJ"
      }
    },
    {
      "cell_type": "markdown",
      "source": [
        " - Rainfall Distribution over the Months"
      ],
      "metadata": {
        "id": "cVQZdXlWrL2H"
      }
    },
    {
      "cell_type": "code",
      "source": [
        "#Creating a dataframe of the Months:\n",
        "Total = Rainfall[['Jan','Feb', 'March', 'April', 'May', 'June', 'July', 'Aug', 'Sept', 'Oct', 'Nov', 'Dec']].copy()\n",
        "\n",
        "#Previewing the first 4 rows:\n",
        "Total.head(4)\n"
      ],
      "metadata": {
        "colab": {
          "base_uri": "https://localhost:8080/",
          "height": 174
        },
        "id": "p9-AaVuzvG3T",
        "outputId": "5e55db4f-6121-45f8-803b-9a1425a1213d"
      },
      "execution_count": 12,
      "outputs": [
        {
          "output_type": "execute_result",
          "data": {
            "text/html": [
              "\n",
              "  <div id=\"df-27b8ee7b-3648-4b54-836b-90f59d076bb9\">\n",
              "    <div class=\"colab-df-container\">\n",
              "      <div>\n",
              "<style scoped>\n",
              "    .dataframe tbody tr th:only-of-type {\n",
              "        vertical-align: middle;\n",
              "    }\n",
              "\n",
              "    .dataframe tbody tr th {\n",
              "        vertical-align: top;\n",
              "    }\n",
              "\n",
              "    .dataframe thead th {\n",
              "        text-align: right;\n",
              "    }\n",
              "</style>\n",
              "<table border=\"1\" class=\"dataframe\">\n",
              "  <thead>\n",
              "    <tr style=\"text-align: right;\">\n",
              "      <th></th>\n",
              "      <th>Jan</th>\n",
              "      <th>Feb</th>\n",
              "      <th>March</th>\n",
              "      <th>April</th>\n",
              "      <th>May</th>\n",
              "      <th>June</th>\n",
              "      <th>July</th>\n",
              "      <th>Aug</th>\n",
              "      <th>Sept</th>\n",
              "      <th>Oct</th>\n",
              "      <th>Nov</th>\n",
              "      <th>Dec</th>\n",
              "    </tr>\n",
              "  </thead>\n",
              "  <tbody>\n",
              "    <tr>\n",
              "      <th>0</th>\n",
              "      <td>2.414143</td>\n",
              "      <td>2.408057</td>\n",
              "      <td>3.535914</td>\n",
              "      <td>5.156879</td>\n",
              "      <td>5.48365</td>\n",
              "      <td>1.979221</td>\n",
              "      <td>1.017064</td>\n",
              "      <td>1.906993</td>\n",
              "      <td>3.584</td>\n",
              "      <td>1.646</td>\n",
              "      <td>1.415</td>\n",
              "      <td>0.123</td>\n",
              "    </tr>\n",
              "    <tr>\n",
              "      <th>1</th>\n",
              "      <td>6.532000</td>\n",
              "      <td>0.252000</td>\n",
              "      <td>1.093000</td>\n",
              "      <td>6.323000</td>\n",
              "      <td>4.48200</td>\n",
              "      <td>0.254000</td>\n",
              "      <td>0.092000</td>\n",
              "      <td>0.088000</td>\n",
              "      <td>0.720</td>\n",
              "      <td>0.524</td>\n",
              "      <td>2.974</td>\n",
              "      <td>4.383</td>\n",
              "    </tr>\n",
              "    <tr>\n",
              "      <th>2</th>\n",
              "      <td>1.805000</td>\n",
              "      <td>0.130000</td>\n",
              "      <td>3.157000</td>\n",
              "      <td>6.455000</td>\n",
              "      <td>1.15500</td>\n",
              "      <td>0.020000</td>\n",
              "      <td>0.045000</td>\n",
              "      <td>1.060000</td>\n",
              "      <td>1.034</td>\n",
              "      <td>3.320</td>\n",
              "      <td>2.322</td>\n",
              "      <td>0.375</td>\n",
              "    </tr>\n",
              "    <tr>\n",
              "      <th>3</th>\n",
              "      <td>7.727000</td>\n",
              "      <td>0.207000</td>\n",
              "      <td>2.288000</td>\n",
              "      <td>4.336000</td>\n",
              "      <td>9.23500</td>\n",
              "      <td>2.262000</td>\n",
              "      <td>0.190000</td>\n",
              "      <td>0.234000</td>\n",
              "      <td>1.375</td>\n",
              "      <td>1.329</td>\n",
              "      <td>5.169</td>\n",
              "      <td>1.980</td>\n",
              "    </tr>\n",
              "  </tbody>\n",
              "</table>\n",
              "</div>\n",
              "      <button class=\"colab-df-convert\" onclick=\"convertToInteractive('df-27b8ee7b-3648-4b54-836b-90f59d076bb9')\"\n",
              "              title=\"Convert this dataframe to an interactive table.\"\n",
              "              style=\"display:none;\">\n",
              "        \n",
              "  <svg xmlns=\"http://www.w3.org/2000/svg\" height=\"24px\"viewBox=\"0 0 24 24\"\n",
              "       width=\"24px\">\n",
              "    <path d=\"M0 0h24v24H0V0z\" fill=\"none\"/>\n",
              "    <path d=\"M18.56 5.44l.94 2.06.94-2.06 2.06-.94-2.06-.94-.94-2.06-.94 2.06-2.06.94zm-11 1L8.5 8.5l.94-2.06 2.06-.94-2.06-.94L8.5 2.5l-.94 2.06-2.06.94zm10 10l.94 2.06.94-2.06 2.06-.94-2.06-.94-.94-2.06-.94 2.06-2.06.94z\"/><path d=\"M17.41 7.96l-1.37-1.37c-.4-.4-.92-.59-1.43-.59-.52 0-1.04.2-1.43.59L10.3 9.45l-7.72 7.72c-.78.78-.78 2.05 0 2.83L4 21.41c.39.39.9.59 1.41.59.51 0 1.02-.2 1.41-.59l7.78-7.78 2.81-2.81c.8-.78.8-2.07 0-2.86zM5.41 20L4 18.59l7.72-7.72 1.47 1.35L5.41 20z\"/>\n",
              "  </svg>\n",
              "      </button>\n",
              "      \n",
              "  <style>\n",
              "    .colab-df-container {\n",
              "      display:flex;\n",
              "      flex-wrap:wrap;\n",
              "      gap: 12px;\n",
              "    }\n",
              "\n",
              "    .colab-df-convert {\n",
              "      background-color: #E8F0FE;\n",
              "      border: none;\n",
              "      border-radius: 50%;\n",
              "      cursor: pointer;\n",
              "      display: none;\n",
              "      fill: #1967D2;\n",
              "      height: 32px;\n",
              "      padding: 0 0 0 0;\n",
              "      width: 32px;\n",
              "    }\n",
              "\n",
              "    .colab-df-convert:hover {\n",
              "      background-color: #E2EBFA;\n",
              "      box-shadow: 0px 1px 2px rgba(60, 64, 67, 0.3), 0px 1px 3px 1px rgba(60, 64, 67, 0.15);\n",
              "      fill: #174EA6;\n",
              "    }\n",
              "\n",
              "    [theme=dark] .colab-df-convert {\n",
              "      background-color: #3B4455;\n",
              "      fill: #D2E3FC;\n",
              "    }\n",
              "\n",
              "    [theme=dark] .colab-df-convert:hover {\n",
              "      background-color: #434B5C;\n",
              "      box-shadow: 0px 1px 3px 1px rgba(0, 0, 0, 0.15);\n",
              "      filter: drop-shadow(0px 1px 2px rgba(0, 0, 0, 0.3));\n",
              "      fill: #FFFFFF;\n",
              "    }\n",
              "  </style>\n",
              "\n",
              "      <script>\n",
              "        const buttonEl =\n",
              "          document.querySelector('#df-27b8ee7b-3648-4b54-836b-90f59d076bb9 button.colab-df-convert');\n",
              "        buttonEl.style.display =\n",
              "          google.colab.kernel.accessAllowed ? 'block' : 'none';\n",
              "\n",
              "        async function convertToInteractive(key) {\n",
              "          const element = document.querySelector('#df-27b8ee7b-3648-4b54-836b-90f59d076bb9');\n",
              "          const dataTable =\n",
              "            await google.colab.kernel.invokeFunction('convertToInteractive',\n",
              "                                                     [key], {});\n",
              "          if (!dataTable) return;\n",
              "\n",
              "          const docLinkHtml = 'Like what you see? Visit the ' +\n",
              "            '<a target=\"_blank\" href=https://colab.research.google.com/notebooks/data_table.ipynb>data table notebook</a>'\n",
              "            + ' to learn more about interactive tables.';\n",
              "          element.innerHTML = '';\n",
              "          dataTable['output_type'] = 'display_data';\n",
              "          await google.colab.output.renderOutput(dataTable, element);\n",
              "          const docLink = document.createElement('div');\n",
              "          docLink.innerHTML = docLinkHtml;\n",
              "          element.appendChild(docLink);\n",
              "        }\n",
              "      </script>\n",
              "    </div>\n",
              "  </div>\n",
              "  "
            ],
            "text/plain": [
              "        Jan       Feb     March     April  ...   Sept    Oct    Nov    Dec\n",
              "0  2.414143  2.408057  3.535914  5.156879  ...  3.584  1.646  1.415  0.123\n",
              "1  6.532000  0.252000  1.093000  6.323000  ...  0.720  0.524  2.974  4.383\n",
              "2  1.805000  0.130000  3.157000  6.455000  ...  1.034  3.320  2.322  0.375\n",
              "3  7.727000  0.207000  2.288000  4.336000  ...  1.375  1.329  5.169  1.980\n",
              "\n",
              "[4 rows x 12 columns]"
            ]
          },
          "metadata": {},
          "execution_count": 12
        }
      ]
    },
    {
      "cell_type": "code",
      "source": [
        "#Finding the total rainfall across the 12 months:\n",
        "Months_Total = Total.sum(axis = 0).sort_values(ascending = False)\n",
        "Months_Total"
      ],
      "metadata": {
        "colab": {
          "base_uri": "https://localhost:8080/"
        },
        "id": "eGAJvRQQwOR3",
        "outputId": "9f3af474-e49d-427e-c7e0-a8b34823858d"
      },
      "execution_count": 16,
      "outputs": [
        {
          "output_type": "execute_result",
          "data": {
            "text/plain": [
              "May      789.645600\n",
              "April    742.590514\n",
              "Nov      577.599000\n",
              "Oct      545.944000\n",
              "March    509.171657\n",
              "Sept     421.803000\n",
              "Dec      419.817000\n",
              "Jan      347.636571\n",
              "Feb      346.760229\n",
              "June     285.007886\n",
              "Aug      274.606971\n",
              "July     146.457257\n",
              "dtype: float64"
            ]
          },
          "metadata": {},
          "execution_count": 16
        }
      ]
    },
    {
      "cell_type": "code",
      "source": [
        "#Visualizing the Information above:\n",
        "plt.figure(figsize= (9,6))\n",
        "fontsize = 14\n",
        "plt.title(\"Rainfall Distribution over the Months\", fontsize = fontsize)\n",
        "sns.barplot(x=Months_Total.index, y=Months_Total, palette='pastel');"
      ],
      "metadata": {
        "colab": {
          "base_uri": "https://localhost:8080/",
          "height": 391
        },
        "id": "NBHJ7wZMws5B",
        "outputId": "94172242-9be6-46e0-c8da-4f19c0b2d1ca"
      },
      "execution_count": 21,
      "outputs": [
        {
          "output_type": "display_data",
          "data": {
            "image/png": "[encoded data removed]",
            "text/plain": [
              "<Figure size 648x432 with 1 Axes>"
            ]
          },
          "metadata": {
            "needs_background": "light"
          }
        }
      ]
    },
    {
      "cell_type": "markdown",
      "source": [
        "From the plot above, the month of May has the highest amount of precipitation levels ~ 789mm"
      ],
      "metadata": {
        "id": "3HvUrFeMxQPa"
      }
    },
    {
      "cell_type": "markdown",
      "source": [
        " - Descriptive Summary"
      ],
      "metadata": {
        "id": "WrVVDkRs74aW"
      }
    },
    {
      "cell_type": "code",
      "source": [
        "#A descriptive summary of the numerical variables:\n",
        "Rainfall.describe()"
      ],
      "metadata": {
        "colab": {
          "base_uri": "https://localhost:8080/",
          "height": 364
        },
        "id": "ONLY7sqV72zW",
        "outputId": "59e61cd8-276d-4d1d-f59e-550917b86305"
      },
      "execution_count": 54,
      "outputs": [
        {
          "output_type": "execute_result",
          "data": {
            "text/html": [
              "\n",
              "  <div id=\"df-5e30d35b-44d3-4821-a858-233ba9b9b439\">\n",
              "    <div class=\"colab-df-container\">\n",
              "      <div>\n",
              "<style scoped>\n",
              "    .dataframe tbody tr th:only-of-type {\n",
              "        vertical-align: middle;\n",
              "    }\n",
              "\n",
              "    .dataframe tbody tr th {\n",
              "        vertical-align: top;\n",
              "    }\n",
              "\n",
              "    .dataframe thead th {\n",
              "        text-align: right;\n",
              "    }\n",
              "</style>\n",
              "<table border=\"1\" class=\"dataframe\">\n",
              "  <thead>\n",
              "    <tr style=\"text-align: right;\">\n",
              "      <th></th>\n",
              "      <th>Time</th>\n",
              "      <th>Jan</th>\n",
              "      <th>Feb</th>\n",
              "      <th>March</th>\n",
              "      <th>April</th>\n",
              "      <th>May</th>\n",
              "      <th>June</th>\n",
              "      <th>July</th>\n",
              "      <th>Aug</th>\n",
              "      <th>Sept</th>\n",
              "      <th>Oct</th>\n",
              "      <th>Nov</th>\n",
              "      <th>Dec</th>\n",
              "    </tr>\n",
              "  </thead>\n",
              "  <tbody>\n",
              "    <tr>\n",
              "      <th>count</th>\n",
              "      <td>144.000000</td>\n",
              "      <td>144.000000</td>\n",
              "      <td>144.000000</td>\n",
              "      <td>144.000000</td>\n",
              "      <td>144.000000</td>\n",
              "      <td>144.000000</td>\n",
              "      <td>144.000000</td>\n",
              "      <td>144.000000</td>\n",
              "      <td>144.000000</td>\n",
              "      <td>144.000000</td>\n",
              "      <td>144.000000</td>\n",
              "      <td>144.000000</td>\n",
              "      <td>144.000000</td>\n",
              "    </tr>\n",
              "    <tr>\n",
              "      <th>mean</th>\n",
              "      <td>2017.500000</td>\n",
              "      <td>2.414143</td>\n",
              "      <td>2.408057</td>\n",
              "      <td>3.535914</td>\n",
              "      <td>5.156879</td>\n",
              "      <td>5.483650</td>\n",
              "      <td>1.979221</td>\n",
              "      <td>1.017064</td>\n",
              "      <td>1.906993</td>\n",
              "      <td>2.929188</td>\n",
              "      <td>3.791278</td>\n",
              "      <td>4.011104</td>\n",
              "      <td>2.915396</td>\n",
              "    </tr>\n",
              "    <tr>\n",
              "      <th>std</th>\n",
              "      <td>10.424554</td>\n",
              "      <td>3.201304</td>\n",
              "      <td>3.366676</td>\n",
              "      <td>4.016884</td>\n",
              "      <td>4.549203</td>\n",
              "      <td>4.157656</td>\n",
              "      <td>2.819778</td>\n",
              "      <td>1.398552</td>\n",
              "      <td>2.317404</td>\n",
              "      <td>2.738371</td>\n",
              "      <td>3.625635</td>\n",
              "      <td>3.479622</td>\n",
              "      <td>2.757755</td>\n",
              "    </tr>\n",
              "    <tr>\n",
              "      <th>min</th>\n",
              "      <td>2000.000000</td>\n",
              "      <td>0.027000</td>\n",
              "      <td>0.029000</td>\n",
              "      <td>0.056000</td>\n",
              "      <td>0.101000</td>\n",
              "      <td>0.105000</td>\n",
              "      <td>0.010000</td>\n",
              "      <td>0.021000</td>\n",
              "      <td>0.031000</td>\n",
              "      <td>0.068000</td>\n",
              "      <td>0.032000</td>\n",
              "      <td>0.064000</td>\n",
              "      <td>0.091000</td>\n",
              "    </tr>\n",
              "    <tr>\n",
              "      <th>25%</th>\n",
              "      <td>2008.750000</td>\n",
              "      <td>0.508000</td>\n",
              "      <td>0.268750</td>\n",
              "      <td>0.601250</td>\n",
              "      <td>1.501750</td>\n",
              "      <td>2.255000</td>\n",
              "      <td>0.244750</td>\n",
              "      <td>0.168500</td>\n",
              "      <td>0.277000</td>\n",
              "      <td>0.583500</td>\n",
              "      <td>0.968250</td>\n",
              "      <td>1.410750</td>\n",
              "      <td>0.537750</td>\n",
              "    </tr>\n",
              "    <tr>\n",
              "      <th>50%</th>\n",
              "      <td>2017.500000</td>\n",
              "      <td>1.376500</td>\n",
              "      <td>1.223500</td>\n",
              "      <td>1.806000</td>\n",
              "      <td>4.522500</td>\n",
              "      <td>4.495500</td>\n",
              "      <td>0.844500</td>\n",
              "      <td>0.397500</td>\n",
              "      <td>1.110500</td>\n",
              "      <td>2.236500</td>\n",
              "      <td>2.793500</td>\n",
              "      <td>2.953500</td>\n",
              "      <td>2.114500</td>\n",
              "    </tr>\n",
              "    <tr>\n",
              "      <th>75%</th>\n",
              "      <td>2026.250000</td>\n",
              "      <td>2.625750</td>\n",
              "      <td>3.363000</td>\n",
              "      <td>4.986250</td>\n",
              "      <td>7.129500</td>\n",
              "      <td>7.848000</td>\n",
              "      <td>2.183000</td>\n",
              "      <td>1.169500</td>\n",
              "      <td>2.429000</td>\n",
              "      <td>4.481750</td>\n",
              "      <td>5.481250</td>\n",
              "      <td>5.446000</td>\n",
              "      <td>4.594250</td>\n",
              "    </tr>\n",
              "    <tr>\n",
              "      <th>max</th>\n",
              "      <td>2035.000000</td>\n",
              "      <td>18.836000</td>\n",
              "      <td>21.804000</td>\n",
              "      <td>15.867000</td>\n",
              "      <td>22.771000</td>\n",
              "      <td>18.085000</td>\n",
              "      <td>14.907000</td>\n",
              "      <td>7.281000</td>\n",
              "      <td>11.457000</td>\n",
              "      <td>13.008000</td>\n",
              "      <td>16.645000</td>\n",
              "      <td>15.818000</td>\n",
              "      <td>11.683000</td>\n",
              "    </tr>\n",
              "  </tbody>\n",
              "</table>\n",
              "</div>\n",
              "      <button class=\"colab-df-convert\" onclick=\"convertToInteractive('df-5e30d35b-44d3-4821-a858-233ba9b9b439')\"\n",
              "              title=\"Convert this dataframe to an interactive table.\"\n",
              "              style=\"display:none;\">\n",
              "        \n",
              "  <svg xmlns=\"http://www.w3.org/2000/svg\" height=\"24px\"viewBox=\"0 0 24 24\"\n",
              "       width=\"24px\">\n",
              "    <path d=\"M0 0h24v24H0V0z\" fill=\"none\"/>\n",
              "    <path d=\"M18.56 5.44l.94 2.06.94-2.06 2.06-.94-2.06-.94-.94-2.06-.94 2.06-2.06.94zm-11 1L8.5 8.5l.94-2.06 2.06-.94-2.06-.94L8.5 2.5l-.94 2.06-2.06.94zm10 10l.94 2.06.94-2.06 2.06-.94-2.06-.94-.94-2.06-.94 2.06-2.06.94z\"/><path d=\"M17.41 7.96l-1.37-1.37c-.4-.4-.92-.59-1.43-.59-.52 0-1.04.2-1.43.59L10.3 9.45l-7.72 7.72c-.78.78-.78 2.05 0 2.83L4 21.41c.39.39.9.59 1.41.59.51 0 1.02-.2 1.41-.59l7.78-7.78 2.81-2.81c.8-.78.8-2.07 0-2.86zM5.41 20L4 18.59l7.72-7.72 1.47 1.35L5.41 20z\"/>\n",
              "  </svg>\n",
              "      </button>\n",
              "      \n",
              "  <style>\n",
              "    .colab-df-container {\n",
              "      display:flex;\n",
              "      flex-wrap:wrap;\n",
              "      gap: 12px;\n",
              "    }\n",
              "\n",
              "    .colab-df-convert {\n",
              "      background-color: #E8F0FE;\n",
              "      border: none;\n",
              "      border-radius: 50%;\n",
              "      cursor: pointer;\n",
              "      display: none;\n",
              "      fill: #1967D2;\n",
              "      height: 32px;\n",
              "      padding: 0 0 0 0;\n",
              "      width: 32px;\n",
              "    }\n",
              "\n",
              "    .colab-df-convert:hover {\n",
              "      background-color: #E2EBFA;\n",
              "      box-shadow: 0px 1px 2px rgba(60, 64, 67, 0.3), 0px 1px 3px 1px rgba(60, 64, 67, 0.15);\n",
              "      fill: #174EA6;\n",
              "    }\n",
              "\n",
              "    [theme=dark] .colab-df-convert {\n",
              "      background-color: #3B4455;\n",
              "      fill: #D2E3FC;\n",
              "    }\n",
              "\n",
              "    [theme=dark] .colab-df-convert:hover {\n",
              "      background-color: #434B5C;\n",
              "      box-shadow: 0px 1px 3px 1px rgba(0, 0, 0, 0.15);\n",
              "      filter: drop-shadow(0px 1px 2px rgba(0, 0, 0, 0.3));\n",
              "      fill: #FFFFFF;\n",
              "    }\n",
              "  </style>\n",
              "\n",
              "      <script>\n",
              "        const buttonEl =\n",
              "          document.querySelector('#df-5e30d35b-44d3-4821-a858-233ba9b9b439 button.colab-df-convert');\n",
              "        buttonEl.style.display =\n",
              "          google.colab.kernel.accessAllowed ? 'block' : 'none';\n",
              "\n",
              "        async function convertToInteractive(key) {\n",
              "          const element = document.querySelector('#df-5e30d35b-44d3-4821-a858-233ba9b9b439');\n",
              "          const dataTable =\n",
              "            await google.colab.kernel.invokeFunction('convertToInteractive',\n",
              "                                                     [key], {});\n",
              "          if (!dataTable) return;\n",
              "\n",
              "          const docLinkHtml = 'Like what you see? Visit the ' +\n",
              "            '<a target=\"_blank\" href=https://colab.research.google.com/notebooks/data_table.ipynb>data table notebook</a>'\n",
              "            + ' to learn more about interactive tables.';\n",
              "          element.innerHTML = '';\n",
              "          dataTable['output_type'] = 'display_data';\n",
              "          await google.colab.output.renderOutput(dataTable, element);\n",
              "          const docLink = document.createElement('div');\n",
              "          docLink.innerHTML = docLinkHtml;\n",
              "          element.appendChild(docLink);\n",
              "        }\n",
              "      </script>\n",
              "    </div>\n",
              "  </div>\n",
              "  "
            ],
            "text/plain": [
              "              Time         Jan         Feb  ...         Oct         Nov         Dec\n",
              "count   144.000000  144.000000  144.000000  ...  144.000000  144.000000  144.000000\n",
              "mean   2017.500000    2.414143    2.408057  ...    3.791278    4.011104    2.915396\n",
              "std      10.424554    3.201304    3.366676  ...    3.625635    3.479622    2.757755\n",
              "min    2000.000000    0.027000    0.029000  ...    0.032000    0.064000    0.091000\n",
              "25%    2008.750000    0.508000    0.268750  ...    0.968250    1.410750    0.537750\n",
              "50%    2017.500000    1.376500    1.223500  ...    2.793500    2.953500    2.114500\n",
              "75%    2026.250000    2.625750    3.363000  ...    5.481250    5.446000    4.594250\n",
              "max    2035.000000   18.836000   21.804000  ...   16.645000   15.818000   11.683000\n",
              "\n",
              "[8 rows x 13 columns]"
            ]
          },
          "metadata": {},
          "execution_count": 54
        }
      ]
    },
    {
      "cell_type": "markdown",
      "source": [
        "The description above provides information on the average, minimum and maximum depth of rainwater(mm/d) for the respective months across the years.\n",
        "\n",
        "Information about the [Lake Victoria Sub Basin](https://atlas.nilebasin.org/treatise/the-lake-victoria-sub-basin/#:~:text=Major%20Sub%2DBasins%20of%20the%20Nile,-The%20Lake%20Victoria&text=Other%20rivers%20converging%20into%20Lake,of%20the%20entire%20sub%2Dbasin.) shows that 6 countries share the basin. Namely: Burundi, DRC, Kenya, Rwanda, Tanzania and Uganda making most of the East Africa countries.\n",
        "\n",
        "[East Africa](https://icpac.medium.com/seasonal-forecast-for-east-africa-a-drier-than-usual-season-worries-experts-a4781c6a7a73#:~:text=East%20Africa%20has%20two%20rainy,very%20much%20on%20this%20rainfall.) is known to have 2 rainy seasons: Long rains(March-May) and Short rains(October to December)\n",
        "\n",
        " - To validate the above from the descriptive summary:\n",
        "  -  The Periods between March, April and May have the highest average precipitations of 3.5mm, 5.2mm and a peak of 5.5mm in May respectively. This makes the long rains season.\n",
        " \n",
        "  -  October, November and December have 3.8mm, 4.0mm, and 2.7mm respectively. This periods are known for short rains.\n"
      ],
      "metadata": {
        "id": "l1aHLzir_cuY"
      }
    },
    {
      "cell_type": "markdown",
      "source": [
        "  - Rainfall distribution per Sub-Regions"
      ],
      "metadata": {
        "id": "yAYfbaof4EKo"
      }
    },
    {
      "cell_type": "code",
      "source": [
        "#Creating a dataframe of the Regions and Months:\n",
        "Regions_Total = Rainfall[['Region', 'Jan','Feb', 'March', 'April', 'May', 'June', 'July', 'Aug', 'Sept', 'Oct', 'Nov', 'Dec']].copy()\n",
        "\n",
        "\n",
        "#Adding a column indicating the totals across the rows:\n",
        "Regions_Total['Total'] = Regions_Total.sum(axis = 1).sort_values(ascending = False)\n",
        "\n",
        "#Previewing the data:\n",
        "Regions_Total.head(4)"
      ],
      "metadata": {
        "colab": {
          "base_uri": "https://localhost:8080/",
          "height": 174
        },
        "id": "TQmv2zu1zwyu",
        "outputId": "726e656e-ad7e-4411-fa60-899fe4804881"
      },
      "execution_count": 42,
      "outputs": [
        {
          "output_type": "execute_result",
          "data": {
            "text/html": [
              "\n",
              "  <div id=\"df-ac36cf96-c7ed-4c4c-95b7-35b10167041b\">\n",
              "    <div class=\"colab-df-container\">\n",
              "      <div>\n",
              "<style scoped>\n",
              "    .dataframe tbody tr th:only-of-type {\n",
              "        vertical-align: middle;\n",
              "    }\n",
              "\n",
              "    .dataframe tbody tr th {\n",
              "        vertical-align: top;\n",
              "    }\n",
              "\n",
              "    .dataframe thead th {\n",
              "        text-align: right;\n",
              "    }\n",
              "</style>\n",
              "<table border=\"1\" class=\"dataframe\">\n",
              "  <thead>\n",
              "    <tr style=\"text-align: right;\">\n",
              "      <th></th>\n",
              "      <th>Region</th>\n",
              "      <th>Jan</th>\n",
              "      <th>Feb</th>\n",
              "      <th>March</th>\n",
              "      <th>April</th>\n",
              "      <th>May</th>\n",
              "      <th>June</th>\n",
              "      <th>July</th>\n",
              "      <th>Aug</th>\n",
              "      <th>Sept</th>\n",
              "      <th>Oct</th>\n",
              "      <th>Nov</th>\n",
              "      <th>Dec</th>\n",
              "      <th>Total</th>\n",
              "    </tr>\n",
              "  </thead>\n",
              "  <tbody>\n",
              "    <tr>\n",
              "      <th>0</th>\n",
              "      <td>Kagera</td>\n",
              "      <td>2.414143</td>\n",
              "      <td>2.408057</td>\n",
              "      <td>3.535914</td>\n",
              "      <td>5.156879</td>\n",
              "      <td>5.48365</td>\n",
              "      <td>1.979221</td>\n",
              "      <td>1.017064</td>\n",
              "      <td>1.906993</td>\n",
              "      <td>3.584</td>\n",
              "      <td>1.646</td>\n",
              "      <td>1.415</td>\n",
              "      <td>0.123</td>\n",
              "      <td>30.669921</td>\n",
              "    </tr>\n",
              "    <tr>\n",
              "      <th>1</th>\n",
              "      <td>Kagera</td>\n",
              "      <td>6.532000</td>\n",
              "      <td>0.252000</td>\n",
              "      <td>1.093000</td>\n",
              "      <td>6.323000</td>\n",
              "      <td>4.48200</td>\n",
              "      <td>0.254000</td>\n",
              "      <td>0.092000</td>\n",
              "      <td>0.088000</td>\n",
              "      <td>0.720</td>\n",
              "      <td>0.524</td>\n",
              "      <td>2.974</td>\n",
              "      <td>4.383</td>\n",
              "      <td>27.717000</td>\n",
              "    </tr>\n",
              "    <tr>\n",
              "      <th>2</th>\n",
              "      <td>Kagera</td>\n",
              "      <td>1.805000</td>\n",
              "      <td>0.130000</td>\n",
              "      <td>3.157000</td>\n",
              "      <td>6.455000</td>\n",
              "      <td>1.15500</td>\n",
              "      <td>0.020000</td>\n",
              "      <td>0.045000</td>\n",
              "      <td>1.060000</td>\n",
              "      <td>1.034</td>\n",
              "      <td>3.320</td>\n",
              "      <td>2.322</td>\n",
              "      <td>0.375</td>\n",
              "      <td>20.878000</td>\n",
              "    </tr>\n",
              "    <tr>\n",
              "      <th>3</th>\n",
              "      <td>Kagera</td>\n",
              "      <td>7.727000</td>\n",
              "      <td>0.207000</td>\n",
              "      <td>2.288000</td>\n",
              "      <td>4.336000</td>\n",
              "      <td>9.23500</td>\n",
              "      <td>2.262000</td>\n",
              "      <td>0.190000</td>\n",
              "      <td>0.234000</td>\n",
              "      <td>1.375</td>\n",
              "      <td>1.329</td>\n",
              "      <td>5.169</td>\n",
              "      <td>1.980</td>\n",
              "      <td>36.332000</td>\n",
              "    </tr>\n",
              "  </tbody>\n",
              "</table>\n",
              "</div>\n",
              "      <button class=\"colab-df-convert\" onclick=\"convertToInteractive('df-ac36cf96-c7ed-4c4c-95b7-35b10167041b')\"\n",
              "              title=\"Convert this dataframe to an interactive table.\"\n",
              "              style=\"display:none;\">\n",
              "        \n",
              "  <svg xmlns=\"http://www.w3.org/2000/svg\" height=\"24px\"viewBox=\"0 0 24 24\"\n",
              "       width=\"24px\">\n",
              "    <path d=\"M0 0h24v24H0V0z\" fill=\"none\"/>\n",
              "    <path d=\"M18.56 5.44l.94 2.06.94-2.06 2.06-.94-2.06-.94-.94-2.06-.94 2.06-2.06.94zm-11 1L8.5 8.5l.94-2.06 2.06-.94-2.06-.94L8.5 2.5l-.94 2.06-2.06.94zm10 10l.94 2.06.94-2.06 2.06-.94-2.06-.94-.94-2.06-.94 2.06-2.06.94z\"/><path d=\"M17.41 7.96l-1.37-1.37c-.4-.4-.92-.59-1.43-.59-.52 0-1.04.2-1.43.59L10.3 9.45l-7.72 7.72c-.78.78-.78 2.05 0 2.83L4 21.41c.39.39.9.59 1.41.59.51 0 1.02-.2 1.41-.59l7.78-7.78 2.81-2.81c.8-.78.8-2.07 0-2.86zM5.41 20L4 18.59l7.72-7.72 1.47 1.35L5.41 20z\"/>\n",
              "  </svg>\n",
              "      </button>\n",
              "      \n",
              "  <style>\n",
              "    .colab-df-container {\n",
              "      display:flex;\n",
              "      flex-wrap:wrap;\n",
              "      gap: 12px;\n",
              "    }\n",
              "\n",
              "    .colab-df-convert {\n",
              "      background-color: #E8F0FE;\n",
              "      border: none;\n",
              "      border-radius: 50%;\n",
              "      cursor: pointer;\n",
              "      display: none;\n",
              "      fill: #1967D2;\n",
              "      height: 32px;\n",
              "      padding: 0 0 0 0;\n",
              "      width: 32px;\n",
              "    }\n",
              "\n",
              "    .colab-df-convert:hover {\n",
              "      background-color: #E2EBFA;\n",
              "      box-shadow: 0px 1px 2px rgba(60, 64, 67, 0.3), 0px 1px 3px 1px rgba(60, 64, 67, 0.15);\n",
              "      fill: #174EA6;\n",
              "    }\n",
              "\n",
              "    [theme=dark] .colab-df-convert {\n",
              "      background-color: #3B4455;\n",
              "      fill: #D2E3FC;\n",
              "    }\n",
              "\n",
              "    [theme=dark] .colab-df-convert:hover {\n",
              "      background-color: #434B5C;\n",
              "      box-shadow: 0px 1px 3px 1px rgba(0, 0, 0, 0.15);\n",
              "      filter: drop-shadow(0px 1px 2px rgba(0, 0, 0, 0.3));\n",
              "      fill: #FFFFFF;\n",
              "    }\n",
              "  </style>\n",
              "\n",
              "      <script>\n",
              "        const buttonEl =\n",
              "          document.querySelector('#df-ac36cf96-c7ed-4c4c-95b7-35b10167041b button.colab-df-convert');\n",
              "        buttonEl.style.display =\n",
              "          google.colab.kernel.accessAllowed ? 'block' : 'none';\n",
              "\n",
              "        async function convertToInteractive(key) {\n",
              "          const element = document.querySelector('#df-ac36cf96-c7ed-4c4c-95b7-35b10167041b');\n",
              "          const dataTable =\n",
              "            await google.colab.kernel.invokeFunction('convertToInteractive',\n",
              "                                                     [key], {});\n",
              "          if (!dataTable) return;\n",
              "\n",
              "          const docLinkHtml = 'Like what you see? Visit the ' +\n",
              "            '<a target=\"_blank\" href=https://colab.research.google.com/notebooks/data_table.ipynb>data table notebook</a>'\n",
              "            + ' to learn more about interactive tables.';\n",
              "          element.innerHTML = '';\n",
              "          dataTable['output_type'] = 'display_data';\n",
              "          await google.colab.output.renderOutput(dataTable, element);\n",
              "          const docLink = document.createElement('div');\n",
              "          docLink.innerHTML = docLinkHtml;\n",
              "          element.appendChild(docLink);\n",
              "        }\n",
              "      </script>\n",
              "    </div>\n",
              "  </div>\n",
              "  "
            ],
            "text/plain": [
              "   Region       Jan       Feb     March  ...    Oct    Nov    Dec      Total\n",
              "0  Kagera  2.414143  2.408057  3.535914  ...  1.646  1.415  0.123  30.669921\n",
              "1  Kagera  6.532000  0.252000  1.093000  ...  0.524  2.974  4.383  27.717000\n",
              "2  Kagera  1.805000  0.130000  3.157000  ...  3.320  2.322  0.375  20.878000\n",
              "3  Kagera  7.727000  0.207000  2.288000  ...  1.329  5.169  1.980  36.332000\n",
              "\n",
              "[4 rows x 14 columns]"
            ]
          },
          "metadata": {},
          "execution_count": 42
        }
      ]
    },
    {
      "cell_type": "code",
      "source": [
        "#To find out which sub-region had the most annual rainfall:\n",
        "Reg = Regions_Total.groupby('Region')['Total'].sum().sort_values(ascending=False).round()\n",
        "Reg"
      ],
      "metadata": {
        "colab": {
          "base_uri": "https://localhost:8080/"
        },
        "id": "CI-SY0LLzIif",
        "outputId": "64a62dd6-f2f4-463e-b166-70578d1e4b17"
      },
      "execution_count": 44,
      "outputs": [
        {
          "output_type": "execute_result",
          "data": {
            "text/plain": [
              "Region\n",
              "L.Victoria    2040.0\n",
              "Nile          1281.0\n",
              "Simiyu        1072.0\n",
              "Kagera        1014.0\n",
              "Name: Total, dtype: float64"
            ]
          },
          "metadata": {},
          "execution_count": 44
        }
      ]
    },
    {
      "cell_type": "code",
      "source": [
        "#Visualizing the information on a pie chart:\n",
        "labels= ['Victoria','Nile', 'Simiyu', 'Kagera']\n",
        "colors=['steelblue', 'lightskyblue', 'skyblue', 'dodgerblue']\n",
        "fontsize = 14\n",
        "plt.figure(figsize= (11, 6))\n",
        "plt.title(\"Rainfall across the Sub-regions\", fontsize = fontsize)\n",
        "plt.pie(Reg, labels=labels, colors=colors, startangle=180, shadow=True,explode=(0, 0.1, 0.1, 0.1), autopct='%1.2f%%')\n",
        "plt.axis('equal')\n",
        "plt.show()\n",
        "\n"
      ],
      "metadata": {
        "colab": {
          "base_uri": "https://localhost:8080/",
          "height": 374
        },
        "id": "F1euOWnd57Jz",
        "outputId": "5de49114-2d21-4b8c-9247-6470f1c8fc6a"
      },
      "execution_count": 53,
      "outputs": [
        {
          "output_type": "display_data",
          "data": {
            "image/png": "[encoded data removed]",
            "text/plain": [
              "<Figure size 792x432 with 1 Axes>"
            ]
          },
          "metadata": {}
        }
      ]
    },
    {
      "cell_type": "markdown",
      "source": [
        "38% of the total rainfall is from the Victoria sub region making it the largest contributor."
      ],
      "metadata": {
        "id": "TAzdDc9-7bMR"
      }
    },
    {
      "cell_type": "markdown",
      "source": [
        " - Annual Precipitation Trend Analysis\n",
        "\n"
      ],
      "metadata": {
        "id": "kizQHkGXhsVT"
      }
    },
    {
      "cell_type": "code",
      "source": [
        "#To view which year has the peak annual precipitation:\n",
        "Rainfall.groupby('Time')['Total'].sum().sort_values(ascending = False). head(4)\n"
      ],
      "metadata": {
        "colab": {
          "base_uri": "https://localhost:8080/"
        },
        "id": "snGurZnRFXAu",
        "outputId": "128347fd-2b48-44c6-a80a-c36f864b4de0"
      },
      "execution_count": 76,
      "outputs": [
        {
          "output_type": "execute_result",
          "data": {
            "text/plain": [
              "Time\n",
              "2026    382.072\n",
              "2027    378.566\n",
              "2028    351.460\n",
              "2011    346.986\n",
              "Name: Total, dtype: float64"
            ]
          },
          "metadata": {},
          "execution_count": 76
        }
      ]
    },
    {
      "cell_type": "code",
      "source": [
        "#Visualizing using a trend chart;\n",
        "Rainfall['Total Rainfall'] = Regions_Total.sum(axis = 1).sort_values()\n",
        "\n",
        "#Grouping by years:\n",
        "T = Rainfall.groupby('Time')['Total Rainfall'].sum()\n",
        "T\n",
        "\n",
        "#Plotting the trend:\n",
        "plt.figure(figsize= (12, 6))\n",
        "T.plot(x = 'Years', y = 'Total Rainfall', kind = 'line', color = 'cornflowerblue', linestyle = 'dashed')\n",
        "plt.grid(True,  color = 'slateblue', linestyle = ':')\n",
        "plt.title(\"Annual Precipitation Trend Chart\")\n",
        "plt.legend(loc = 2)\n",
        "plt.show"
      ],
      "metadata": {
        "colab": {
          "base_uri": "https://localhost:8080/",
          "height": 422
        },
        "id": "7byyXu8V_vgh",
        "outputId": "ddb6553e-1ff4-46b3-a364-b025c4616a77"
      },
      "execution_count": 99,
      "outputs": [
        {
          "output_type": "execute_result",
          "data": {
            "text/plain": [
              "<function matplotlib.pyplot.show>"
            ]
          },
          "metadata": {},
          "execution_count": 99
        },
        {
          "output_type": "display_data",
          "data": {
            "image/png": "[encoded data removed]",
            "text/plain": [
              "<Figure size 864x432 with 1 Axes>"
            ]
          },
          "metadata": {
            "needs_background": "light"
          }
        }
      ]
    },
    {
      "cell_type": "markdown",
      "source": [
        "It is anticipated that the annual precipitation will reach a peak in the year 2026 with 383mm"
      ],
      "metadata": {
        "id": "S26LtOiyRPOh"
      }
    }
  ]
}